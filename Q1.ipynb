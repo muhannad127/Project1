{
 "cells": [
  {
   "cell_type": "markdown",
   "metadata": {},
   "source": [
    "## 1. Business Understanding"
   ]
  },
  {
   "cell_type": "markdown",
   "metadata": {},
   "source": [
    " #### 1st Q: Are bookings with longer lead time (days between date of reservation and date of arrival) more likely to be cancelled?"
   ]
  },
  {
   "cell_type": "markdown",
   "metadata": {},
   "source": [
    "## 2. Data Understanding"
   ]
  },
  {
   "cell_type": "markdown",
   "metadata": {},
   "source": [
    "#### Gather:"
   ]
  },
  {
   "cell_type": "code",
   "execution_count": 1,
   "metadata": {
    "scrolled": false
   },
   "outputs": [],
   "source": [
    "import numpy as np\n",
    "import pandas as pd\n",
    "import matplotlib.pyplot as plt\n",
    "\n",
    "%matplotlib inline\n",
    "\n",
    "df = pd.read_csv('./hotel_bookings.csv') # reading dataset"
   ]
  },
  {
   "cell_type": "markdown",
   "metadata": {},
   "source": [
    "### Assess"
   ]
  },
  {
   "cell_type": "code",
   "execution_count": 2,
   "metadata": {},
   "outputs": [
    {
     "data": {
      "text/html": [
       "<div>\n",
       "<style scoped>\n",
       "    .dataframe tbody tr th:only-of-type {\n",
       "        vertical-align: middle;\n",
       "    }\n",
       "\n",
       "    .dataframe tbody tr th {\n",
       "        vertical-align: top;\n",
       "    }\n",
       "\n",
       "    .dataframe thead th {\n",
       "        text-align: right;\n",
       "    }\n",
       "</style>\n",
       "<table border=\"1\" class=\"dataframe\">\n",
       "  <thead>\n",
       "    <tr style=\"text-align: right;\">\n",
       "      <th></th>\n",
       "      <th>hotel</th>\n",
       "      <th>is_canceled</th>\n",
       "      <th>lead_time</th>\n",
       "      <th>arrival_date_year</th>\n",
       "      <th>arrival_date_month</th>\n",
       "      <th>arrival_date_week_number</th>\n",
       "      <th>arrival_date_day_of_month</th>\n",
       "      <th>stays_in_weekend_nights</th>\n",
       "      <th>stays_in_week_nights</th>\n",
       "      <th>adults</th>\n",
       "      <th>...</th>\n",
       "      <th>deposit_type</th>\n",
       "      <th>agent</th>\n",
       "      <th>company</th>\n",
       "      <th>days_in_waiting_list</th>\n",
       "      <th>customer_type</th>\n",
       "      <th>adr</th>\n",
       "      <th>required_car_parking_spaces</th>\n",
       "      <th>total_of_special_requests</th>\n",
       "      <th>reservation_status</th>\n",
       "      <th>reservation_status_date</th>\n",
       "    </tr>\n",
       "  </thead>\n",
       "  <tbody>\n",
       "    <tr>\n",
       "      <th>0</th>\n",
       "      <td>Resort Hotel</td>\n",
       "      <td>0</td>\n",
       "      <td>342</td>\n",
       "      <td>2015</td>\n",
       "      <td>July</td>\n",
       "      <td>27</td>\n",
       "      <td>1</td>\n",
       "      <td>0</td>\n",
       "      <td>0</td>\n",
       "      <td>2</td>\n",
       "      <td>...</td>\n",
       "      <td>No Deposit</td>\n",
       "      <td>NaN</td>\n",
       "      <td>NaN</td>\n",
       "      <td>0</td>\n",
       "      <td>Transient</td>\n",
       "      <td>0.0</td>\n",
       "      <td>0</td>\n",
       "      <td>0</td>\n",
       "      <td>Check-Out</td>\n",
       "      <td>2015-07-01</td>\n",
       "    </tr>\n",
       "    <tr>\n",
       "      <th>1</th>\n",
       "      <td>Resort Hotel</td>\n",
       "      <td>0</td>\n",
       "      <td>737</td>\n",
       "      <td>2015</td>\n",
       "      <td>July</td>\n",
       "      <td>27</td>\n",
       "      <td>1</td>\n",
       "      <td>0</td>\n",
       "      <td>0</td>\n",
       "      <td>2</td>\n",
       "      <td>...</td>\n",
       "      <td>No Deposit</td>\n",
       "      <td>NaN</td>\n",
       "      <td>NaN</td>\n",
       "      <td>0</td>\n",
       "      <td>Transient</td>\n",
       "      <td>0.0</td>\n",
       "      <td>0</td>\n",
       "      <td>0</td>\n",
       "      <td>Check-Out</td>\n",
       "      <td>2015-07-01</td>\n",
       "    </tr>\n",
       "    <tr>\n",
       "      <th>2</th>\n",
       "      <td>Resort Hotel</td>\n",
       "      <td>0</td>\n",
       "      <td>7</td>\n",
       "      <td>2015</td>\n",
       "      <td>July</td>\n",
       "      <td>27</td>\n",
       "      <td>1</td>\n",
       "      <td>0</td>\n",
       "      <td>1</td>\n",
       "      <td>1</td>\n",
       "      <td>...</td>\n",
       "      <td>No Deposit</td>\n",
       "      <td>NaN</td>\n",
       "      <td>NaN</td>\n",
       "      <td>0</td>\n",
       "      <td>Transient</td>\n",
       "      <td>75.0</td>\n",
       "      <td>0</td>\n",
       "      <td>0</td>\n",
       "      <td>Check-Out</td>\n",
       "      <td>2015-07-02</td>\n",
       "    </tr>\n",
       "    <tr>\n",
       "      <th>3</th>\n",
       "      <td>Resort Hotel</td>\n",
       "      <td>0</td>\n",
       "      <td>13</td>\n",
       "      <td>2015</td>\n",
       "      <td>July</td>\n",
       "      <td>27</td>\n",
       "      <td>1</td>\n",
       "      <td>0</td>\n",
       "      <td>1</td>\n",
       "      <td>1</td>\n",
       "      <td>...</td>\n",
       "      <td>No Deposit</td>\n",
       "      <td>304.0</td>\n",
       "      <td>NaN</td>\n",
       "      <td>0</td>\n",
       "      <td>Transient</td>\n",
       "      <td>75.0</td>\n",
       "      <td>0</td>\n",
       "      <td>0</td>\n",
       "      <td>Check-Out</td>\n",
       "      <td>2015-07-02</td>\n",
       "    </tr>\n",
       "    <tr>\n",
       "      <th>4</th>\n",
       "      <td>Resort Hotel</td>\n",
       "      <td>0</td>\n",
       "      <td>14</td>\n",
       "      <td>2015</td>\n",
       "      <td>July</td>\n",
       "      <td>27</td>\n",
       "      <td>1</td>\n",
       "      <td>0</td>\n",
       "      <td>2</td>\n",
       "      <td>2</td>\n",
       "      <td>...</td>\n",
       "      <td>No Deposit</td>\n",
       "      <td>240.0</td>\n",
       "      <td>NaN</td>\n",
       "      <td>0</td>\n",
       "      <td>Transient</td>\n",
       "      <td>98.0</td>\n",
       "      <td>0</td>\n",
       "      <td>1</td>\n",
       "      <td>Check-Out</td>\n",
       "      <td>2015-07-03</td>\n",
       "    </tr>\n",
       "  </tbody>\n",
       "</table>\n",
       "<p>5 rows × 32 columns</p>\n",
       "</div>"
      ],
      "text/plain": [
       "          hotel  is_canceled  lead_time  arrival_date_year arrival_date_month  \\\n",
       "0  Resort Hotel            0        342               2015               July   \n",
       "1  Resort Hotel            0        737               2015               July   \n",
       "2  Resort Hotel            0          7               2015               July   \n",
       "3  Resort Hotel            0         13               2015               July   \n",
       "4  Resort Hotel            0         14               2015               July   \n",
       "\n",
       "   arrival_date_week_number  arrival_date_day_of_month  \\\n",
       "0                        27                          1   \n",
       "1                        27                          1   \n",
       "2                        27                          1   \n",
       "3                        27                          1   \n",
       "4                        27                          1   \n",
       "\n",
       "   stays_in_weekend_nights  stays_in_week_nights  adults  ...  deposit_type  \\\n",
       "0                        0                     0       2  ...    No Deposit   \n",
       "1                        0                     0       2  ...    No Deposit   \n",
       "2                        0                     1       1  ...    No Deposit   \n",
       "3                        0                     1       1  ...    No Deposit   \n",
       "4                        0                     2       2  ...    No Deposit   \n",
       "\n",
       "   agent company days_in_waiting_list customer_type   adr  \\\n",
       "0    NaN     NaN                    0     Transient   0.0   \n",
       "1    NaN     NaN                    0     Transient   0.0   \n",
       "2    NaN     NaN                    0     Transient  75.0   \n",
       "3  304.0     NaN                    0     Transient  75.0   \n",
       "4  240.0     NaN                    0     Transient  98.0   \n",
       "\n",
       "   required_car_parking_spaces  total_of_special_requests  reservation_status  \\\n",
       "0                            0                          0           Check-Out   \n",
       "1                            0                          0           Check-Out   \n",
       "2                            0                          0           Check-Out   \n",
       "3                            0                          0           Check-Out   \n",
       "4                            0                          1           Check-Out   \n",
       "\n",
       "  reservation_status_date  \n",
       "0              2015-07-01  \n",
       "1              2015-07-01  \n",
       "2              2015-07-02  \n",
       "3              2015-07-02  \n",
       "4              2015-07-03  \n",
       "\n",
       "[5 rows x 32 columns]"
      ]
     },
     "execution_count": 2,
     "metadata": {},
     "output_type": "execute_result"
    }
   ],
   "source": [
    "df.head() #%quick look at the data"
   ]
  },
  {
   "cell_type": "code",
   "execution_count": 3,
   "metadata": {
    "scrolled": true
   },
   "outputs": [
    {
     "data": {
      "text/plain": [
       "Index(['hotel', 'is_canceled', 'lead_time', 'arrival_date_year',\n",
       "       'arrival_date_month', 'arrival_date_week_number',\n",
       "       'arrival_date_day_of_month', 'stays_in_weekend_nights',\n",
       "       'stays_in_week_nights', 'adults', 'children', 'babies', 'meal',\n",
       "       'country', 'market_segment', 'distribution_channel',\n",
       "       'is_repeated_guest', 'previous_cancellations',\n",
       "       'previous_bookings_not_canceled', 'reserved_room_type',\n",
       "       'assigned_room_type', 'booking_changes', 'deposit_type', 'agent',\n",
       "       'company', 'days_in_waiting_list', 'customer_type', 'adr',\n",
       "       'required_car_parking_spaces', 'total_of_special_requests',\n",
       "       'reservation_status', 'reservation_status_date'],\n",
       "      dtype='object')"
      ]
     },
     "execution_count": 3,
     "metadata": {},
     "output_type": "execute_result"
    }
   ],
   "source": [
    "# compile column names into a list\n",
    "column_lst= df.columns\n",
    "column_lst"
   ]
  },
  {
   "cell_type": "code",
   "execution_count": 4,
   "metadata": {},
   "outputs": [],
   "source": [
    "\n",
    "# Using the data, this question can be answered, revealing insights the business could act based on\n",
    "\n",
    "#To answer the question, compute the proportion of cancellations to total bookings for each lead time value (min:0 max:737 days)\n",
    "#Plot a graph with lead_time in the x axis and the proprtion of cancellations in the y axis\n"
   ]
  },
  {
   "cell_type": "markdown",
   "metadata": {},
   "source": [
    "## 3. Prepare Data"
   ]
  },
  {
   "cell_type": "markdown",
   "metadata": {},
   "source": [
    "### Clean"
   ]
  },
  {
   "cell_type": "code",
   "execution_count": 5,
   "metadata": {},
   "outputs": [],
   "source": [
    "# create dataframe with only is_canceled and lead_time columns \n",
    "can_df= df[['is_canceled', 'lead_time']]\n",
    "\n",
    "def eval_prop(df):\n",
    "    \n",
    "    t_vals= df['lead_time']\n",
    "    array= []\n",
    "    done=[]\n",
    "    for t in t_vals:\n",
    "        if t in done:\n",
    "            continue\n",
    "            \n",
    "        df_new= df[df['lead_time']==t] #select rows with this many days of lead time\n",
    "        \n",
    "        prop= df_new[df_new['is_canceled']==1].shape[0]/df_new.shape[0]\n",
    "        array.append((t,prop))\n",
    "        done.append(t)\n",
    "    return array"
   ]
  },
  {
   "cell_type": "markdown",
   "metadata": {},
   "source": [
    "### 4. Modeling"
   ]
  },
  {
   "cell_type": "markdown",
   "metadata": {},
   "source": [
    "### Analyze"
   ]
  },
  {
   "cell_type": "code",
   "execution_count": 6,
   "metadata": {},
   "outputs": [],
   "source": [
    "xy=eval_prop(can_df)"
   ]
  },
  {
   "cell_type": "code",
   "execution_count": 7,
   "metadata": {},
   "outputs": [
    {
     "data": {
      "text/plain": [
       "[(737, 0.0),\n",
       " (460, 0.0),\n",
       " (382, 0.0),\n",
       " (709, 0.0),\n",
       " (424, 0.0),\n",
       " (400, 0.0),\n",
       " (370, 0.0),\n",
       " (376, 0.0),\n",
       " (542, 0.0),\n",
       " (362, 0.0),\n",
       " (532, 0.0),\n",
       " (445, 0.0),\n",
       " (388, 0.0),\n",
       " (463, 0.0),\n",
       " (397, 0.058823529411764705),\n",
       " (429, 0.06666666666666667),\n",
       " (0, 0.0677698975571316),\n",
       " (1, 0.09277456647398843),\n",
       " (3, 0.10022026431718062),\n",
       " (4, 0.10262390670553936)]"
      ]
     },
     "execution_count": 7,
     "metadata": {},
     "output_type": "execute_result"
    }
   ],
   "source": [
    "# sort by y (Cancel ratio) output 1st 20 values\n",
    "get_y= lambda tup: tup[1]\n",
    "sorted(xy, key= get_y)[:20]"
   ]
  },
  {
   "cell_type": "code",
   "execution_count": 8,
   "metadata": {
    "scrolled": true
   },
   "outputs": [
    {
     "data": {
      "text/plain": [
       "[(398, 1.0),\n",
       " (357, 1.0),\n",
       " (403, 1.0),\n",
       " (393, 1.0),\n",
       " (435, 1.0),\n",
       " (378, 1.0),\n",
       " (471, 1.0),\n",
       " (411, 1.0),\n",
       " (450, 1.0),\n",
       " (372, 1.0),\n",
       " (371, 1.0),\n",
       " (443, 1.0),\n",
       " (437, 1.0),\n",
       " (391, 1.0),\n",
       " (412, 1.0),\n",
       " (419, 1.0),\n",
       " (420, 1.0),\n",
       " (426, 1.0),\n",
       " (433, 1.0),\n",
       " (440, 1.0),\n",
       " (447, 1.0),\n",
       " (461, 1.0),\n",
       " (605, 1.0),\n",
       " (475, 1.0),\n",
       " (482, 1.0),\n",
       " (626, 1.0),\n",
       " (489, 1.0),\n",
       " (496, 1.0),\n",
       " (503, 1.0),\n",
       " (510, 1.0),\n",
       " (517, 1.0),\n",
       " (524, 1.0),\n",
       " (531, 1.0),\n",
       " (538, 1.0),\n",
       " (545, 1.0),\n",
       " (552, 1.0),\n",
       " (559, 1.0),\n",
       " (566, 1.0),\n",
       " (573, 1.0),\n",
       " (580, 1.0),\n",
       " (587, 1.0),\n",
       " (594, 1.0),\n",
       " (601, 1.0),\n",
       " (608, 1.0),\n",
       " (615, 1.0),\n",
       " (622, 1.0),\n",
       " (629, 1.0),\n",
       " (410, 1.0),\n",
       " (387, 1.0),\n",
       " (467, 1.0),\n",
       " (490, 1.0),\n",
       " (493, 1.0),\n",
       " (507, 1.0),\n",
       " (458, 1.0),\n",
       " (521, 1.0),\n",
       " (444, 1.0),\n",
       " (380, 1.0),\n",
       " (358, 0.9726027397260274),\n",
       " (454, 0.9696969696969697),\n",
       " (374, 0.9523809523809523),\n",
       " (373, 0.9310344827586207),\n",
       " (407, 0.9310344827586207),\n",
       " (350, 0.9285714285714286),\n",
       " (379, 0.9264705882352942),\n",
       " (344, 0.9253731343283582),\n",
       " (384, 0.92),\n",
       " (279, 0.9090909090909091),\n",
       " (408, 0.9090909090909091),\n",
       " (304, 0.9005524861878453),\n",
       " (302, 0.891156462585034)]"
      ]
     },
     "execution_count": 8,
     "metadata": {},
     "output_type": "execute_result"
    }
   ],
   "source": [
    "# sort by y (Cancel ratio) output last 70 values\n",
    "# (print 70 vals to get y values less than 1)\n",
    "sorted(xy, key= get_y, reverse=True)[:70]"
   ]
  },
  {
   "cell_type": "code",
   "execution_count": 9,
   "metadata": {},
   "outputs": [
    {
     "data": {
      "text/plain": [
       "' Larger lead_time values dominate both ends of spectrum\\nof cancellations. This warrants data visualizations to further\\nunderstand the data'"
      ]
     },
     "execution_count": 9,
     "metadata": {},
     "output_type": "execute_result"
    }
   ],
   "source": [
    "''' Larger lead_time values dominate both ends of spectrum\n",
    "of cancellations. This warrants data visualizations to further\n",
    "understand the data'''\n"
   ]
  },
  {
   "cell_type": "markdown",
   "metadata": {},
   "source": [
    "### Visualize"
   ]
  },
  {
   "cell_type": "code",
   "execution_count": 10,
   "metadata": {
    "scrolled": false
   },
   "outputs": [
    {
     "data": {
      "image/png": "[encoded data removed]",
      "text/plain": [
       "<Figure size 432x288 with 1 Axes>"
      ]
     },
     "metadata": {
      "needs_background": "light"
     },
     "output_type": "display_data"
    }
   ],
   "source": [
    "# Dots represent each lead time value [0, 737]\n",
    "plt.xlabel('Lead Time')\n",
    "plt.ylabel('Proportion of Cancellations')\n",
    "plt.scatter(*zip(*xy))\n",
    "plt.show()"
   ]
  },
  {
   "cell_type": "code",
   "execution_count": 11,
   "metadata": {},
   "outputs": [],
   "source": [
    "# Analysis: graph shows an increase in proportion but looks a bit messy. let's see if we can improve it\n",
    "\n",
    "def eval_prop_v2(df, cutoff=0):\n",
    "    \n",
    "    t_vals= df['lead_time']\n",
    "    array= []\n",
    "    done=[]\n",
    "    for t in t_vals:\n",
    "        if t in done:\n",
    "            continue\n",
    "        done.append(t)\n",
    "        \n",
    "        df_new= df[df['lead_time']==t] #select rows with this many days of lead time\n",
    "        if df_new.shape[0]<cutoff: # drop vals with less than 10 rows to extract meaningful stats\n",
    "            continue\n",
    "        \n",
    "        prop= df_new[df_new['is_canceled']==1].shape[0]/df_new.shape[0]\n",
    "        array.append((t,prop))\n",
    "        \n",
    "    return array"
   ]
  },
  {
   "cell_type": "code",
   "execution_count": 12,
   "metadata": {
    "scrolled": false
   },
   "outputs": [
    {
     "data": {
      "image/png": "[encoded data removed]",
      "text/plain": [
       "<Figure size 432x288 with 1 Axes>"
      ]
     },
     "metadata": {
      "needs_background": "light"
     },
     "output_type": "display_data"
    },
    {
     "data": {
      "image/png": "[encoded data removed]",
      "text/plain": [
       "<Figure size 432x288 with 1 Axes>"
      ]
     },
     "metadata": {
      "needs_background": "light"
     },
     "output_type": "display_data"
    },
    {
     "data": {
      "image/png": "[encoded data removed]",
      "text/plain": [
       "<Figure size 432x288 with 1 Axes>"
      ]
     },
     "metadata": {
      "needs_background": "light"
     },
     "output_type": "display_data"
    },
    {
     "data": {
      "image/png": "[encoded data removed]",
      "text/plain": [
       "<Figure size 432x288 with 1 Axes>"
      ]
     },
     "metadata": {
      "needs_background": "light"
     },
     "output_type": "display_data"
    }
   ],
   "source": [
    "# Create a cutoff to observe points with bookings larger or equal than cutoff\n",
    "cutoffs= [10, 30, 50, 100]\n",
    "for cutoff in cutoffs:\n",
    "    xy=eval_prop_v2(can_df, cutoff=cutoff)\n",
    "    plt.xlabel('Lead Time')\n",
    "    plt.ylabel('Proportion of Cancellations')\n",
    "    plt.title('With Cutoff={}'.format(cutoff))\n",
    "    plt.scatter(*zip(*xy))\n",
    "    plt.show()"
   ]
  },
  {
   "cell_type": "code",
   "execution_count": 13,
   "metadata": {
    "scrolled": false
   },
   "outputs": [
    {
     "name": "stderr",
     "output_type": "stream",
     "text": [
      "/usr/lib/python3/dist-packages/ipykernel_launcher.py:14: UserWarning: Boolean Series key will be reindexed to match DataFrame index.\n",
      "  \n",
      "/usr/lib/python3/dist-packages/ipykernel_launcher.py:15: UserWarning: Boolean Series key will be reindexed to match DataFrame index.\n",
      "  from ipykernel import kernelapp as app\n"
     ]
    },
    {
     "data": {
      "image/png": "[encoded data removed]",
      "text/plain": [
       "<Figure size 432x288 with 1 Axes>"
      ]
     },
     "metadata": {
      "needs_background": "light"
     },
     "output_type": "display_data"
    },
    {
     "data": {
      "image/png": "[encoded data removed]",
      "text/plain": [
       "<Figure size 432x288 with 1 Axes>"
      ]
     },
     "metadata": {
      "needs_background": "light"
     },
     "output_type": "display_data"
    }
   ],
   "source": [
    "# Analysis: From the graph, it seems the pattern of the plot remains approximitely the same with different cutoffs\n",
    "\n",
    "# bookings will be divided to 15 segments based on lead time. segment 1: bookings that had 50 days lead time or less\n",
    "# segment 2: bookings that had 100 days lead time or less but no less than 50 and so forth\n",
    "xy=eval_prop(can_df)\n",
    "df_xy=pd.DataFrame(xy, columns=['lead_time', 'cancel_rate'])\n",
    "\n",
    "segments=[(i, i+50) for i in range(0, 701, 50)]\n",
    "xax=[i for i in range(50, 751, 50)]\n",
    "means=[]\n",
    "stds=[]\n",
    "for small, large in segments:\n",
    "\n",
    "    means.append(df_xy[df_xy['lead_time']<=large][df_xy['lead_time']>=small].mean()[1])\n",
    "    stds.append(df_xy[df_xy['lead_time']<=large][df_xy['lead_time']>=small].std()[1])\n",
    "\n",
    "plt.xlabel('Period between booking and arrival in days')\n",
    "plt.ylabel('mean of cancel rate')    \n",
    "plt.plot(xax,means)\n",
    "plt.show()\n",
    "\n",
    "plt.xlabel('Period between booking and arrival in days')\n",
    "plt.ylabel('std of cancel rate')\n",
    "plt.plot(xax,stds)\n",
    "plt.show()"
   ]
  },
  {
   "cell_type": "markdown",
   "metadata": {},
   "source": [
    "## 5. Evaluate the Results"
   ]
  },
  {
   "cell_type": "code",
   "execution_count": 14,
   "metadata": {},
   "outputs": [
    {
     "data": {
      "text/plain": [
       "'As the graph demostrates above, lower lead times have, on average, a lesser chance of being canceled.\\nAs lead time grows, customer becomes more complex and less predictable, as shown by the higher standard deviation.\\nThis means that a considerable portion of bookings with longer lead time have good chance of not being canceled.\\nHowever, on average, these booking are more likely to be canceled'"
      ]
     },
     "execution_count": 14,
     "metadata": {},
     "output_type": "execute_result"
    }
   ],
   "source": [
    "'''As the graph demostrates above, lower lead times have, on average, a lesser chance of being canceled.\n",
    "As lead time grows, customer becomes more complex and less predictable, as shown by the higher standard deviation.\n",
    "This means that a considerable portion of bookings with longer lead time have good chance of not being canceled.\n",
    "However, on average, these booking are more likely to be canceled'''"
   ]
  }
 ],
 "metadata": {
  "kernelspec": {
   "display_name": "Python 3",
   "language": "python",
   "name": "python3"
  },
  "language_info": {
   "codemirror_mode": {
    "name": "ipython",
    "version": 3
   },
   "file_extension": ".py",
   "mimetype": "text/x-python",
   "name": "python",
   "nbconvert_exporter": "python",
   "pygments_lexer": "ipython3",
   "version": "3.7.5"
  }
 },
 "nbformat": 4,
 "nbformat_minor": 4
}
